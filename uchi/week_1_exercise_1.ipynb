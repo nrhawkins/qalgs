{
 "cells": [
  {
   "cell_type": "markdown",
   "metadata": {},
   "source": [
    "Exercise 1: 1 Qubit Circuit\n",
    "\n",
    "Starting in state |0⟩ create a circuit that generates a √(2)/2|0⟩ - √(2)/2|1⟩ state, or |-⟩."
   ]
  },
  {
   "cell_type": "code",
   "execution_count": null,
   "metadata": {},
   "outputs": [],
   "source": [
    "import qiskit\n",
    "\n",
    "def hw1_1_response():\n",
    "    qr1 = qiskit.QuantumRegister(1)\n",
    "    qc1 = qiskit.QuantumCircuit(qr1)\n",
    "    \n",
    "    qc1.x(qr1[0])\n",
    "    qc1.h(qr1[0])\n",
    "\n",
    "    return qc1"
   ]
  }
 ],
 "metadata": {
  "kernelspec": {
   "display_name": "qiskit_py38",
   "language": "python",
   "name": "qiskit_py38"
  },
  "language_info": {
   "codemirror_mode": {
    "name": "ipython",
    "version": 3
   },
   "file_extension": ".py",
   "mimetype": "text/x-python",
   "name": "python",
   "nbconvert_exporter": "python",
   "pygments_lexer": "ipython3",
   "version": "3.8.5"
  }
 },
 "nbformat": 4,
 "nbformat_minor": 4
}
