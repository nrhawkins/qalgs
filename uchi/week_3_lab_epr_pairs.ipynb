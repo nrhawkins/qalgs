{
 "cells": [
  {
   "cell_type": "code",
   "execution_count": 295,
   "metadata": {},
   "outputs": [],
   "source": [
    "import qiskit\n",
    "from qiskit import QuantumCircuit, ClassicalRegister\n",
    "from qiskit.quantum_info import Statevector\n",
    "from qiskit import BasicAer"
   ]
  },
  {
   "cell_type": "code",
   "execution_count": 296,
   "metadata": {},
   "outputs": [],
   "source": [
    "def create_large_entangled(primed=None):\n",
    "    qr = qiskit.QuantumRegister(6)\n",
    "    #cr = qiskit.ClassicalRegister(6)\n",
    "    c = qiskit.QuantumCircuit(qr)#, cr)\n",
    "    \n",
    "    if primed is not None:\n",
    "        prime_circuit(c, qr, primed)\n",
    "    create_bell_pair(c, qr[0], qr[1])\n",
    "    for i in range(2, 6):\n",
    "        c.h(qr[i])\n",
    "    \n",
    "    import random\n",
    "    current_loc_1 = 0\n",
    "    current_loc_2 = 1\n",
    "    for i in range(10):\n",
    "        r = random.randint(0, 5)\n",
    "        while r == current_loc_1:\n",
    "            r = random.randint(0, 5)\n",
    "        if r == current_loc_2:\n",
    "            current_loc_2 = current_loc_1\n",
    "        c.swap(qr[current_loc_1], qr[r])\n",
    "        current_loc_1 = r\n",
    "    for i in range(10):\n",
    "        r = random.randint(0, 5)\n",
    "        while r == current_loc_2:\n",
    "            r = random.randint(0, 5)\n",
    "        if r == current_loc_1:\n",
    "            current_loc_1 = current_loc_2\n",
    "        c.swap(qr[current_loc_2], qr[r])\n",
    "        current_loc_2 = r\n",
    "    return c, current_loc_1, current_loc_2"
   ]
  },
  {
   "cell_type": "code",
   "execution_count": 297,
   "metadata": {},
   "outputs": [],
   "source": [
    "def create_bell_pair(circuit, qubit_1, qubit_2):\n",
    "    circuit.h(qubit_1)\n",
    "    circuit.cnot(qubit_1, qubit_2)"
   ]
  },
  {
   "cell_type": "code",
   "execution_count": 298,
   "metadata": {},
   "outputs": [],
   "source": [
    "def prime_circuit_initialize(circuit, qubit_list, bitstring):\n",
    "    n = len(qubit_list)\n",
    "    circuit.initialize(Statevector.from_label(bitstring).data, range(n))\n",
    "\n",
    "    return circuit"
   ]
  },
  {
   "cell_type": "code",
   "execution_count": 299,
   "metadata": {},
   "outputs": [],
   "source": [
    "def prime_circuit(circuit, qubit_list, bitstring):\n",
    "    n = len(qubit_list)\n",
    "#    cr = ClassicalRegister(n, 'c')\n",
    "#    circuit.add_register(cr)\n",
    "#    circuit.measure([0,1,2,3,4,5], [0,1,2,3,4,5])\n",
    "#    qasm_string = cr.qasm()\n",
    "#    print(\"qasm_string:\", qasm_string)\n",
    "    for i in range(n):\n",
    "        if bitstring[i] == 1:\n",
    "            circuit.x(i)            \n",
    "            \n",
    "    return circuit"
   ]
  },
  {
   "cell_type": "code",
   "execution_count": 300,
   "metadata": {},
   "outputs": [],
   "source": [
    "c, q1, q2 = create_large_entangled(primed=\"101010\")\n",
    "#print(c)\n",
    "#print(q1, q2)"
   ]
  },
  {
   "cell_type": "code",
   "execution_count": 301,
   "metadata": {},
   "outputs": [
    {
     "data": {
      "text/plain": [
       "{'000010': 30,\n",
       " '000110': 31,\n",
       " '111111': 27,\n",
       " '100100': 34,\n",
       " '011101': 38,\n",
       " '000100': 28,\n",
       " '111001': 33,\n",
       " '101101': 39,\n",
       " '001011': 36,\n",
       " '110000': 36,\n",
       " '110110': 28,\n",
       " '101001': 25,\n",
       " '010000': 29,\n",
       " '100000': 42,\n",
       " '001001': 41,\n",
       " '111101': 38,\n",
       " '100110': 29,\n",
       " '001101': 37,\n",
       " '011111': 32,\n",
       " '010110': 29,\n",
       " '011011': 25,\n",
       " '111011': 33,\n",
       " '101111': 32,\n",
       " '110100': 36,\n",
       " '010010': 27,\n",
       " '001111': 35,\n",
       " '000000': 30,\n",
       " '110010': 23,\n",
       " '011001': 25,\n",
       " '010100': 34,\n",
       " '100010': 35,\n",
       " '101011': 27}"
      ]
     },
     "execution_count": 301,
     "metadata": {},
     "output_type": "execute_result"
    }
   ],
   "source": [
    "c.measure_all()\n",
    "counts = qiskit.execute(c, backend=BasicAer.get_backend('qasm_simulator')).result().get_counts()\n",
    "counts"
   ]
  },
  {
   "cell_type": "code",
   "execution_count": 302,
   "metadata": {},
   "outputs": [],
   "source": [
    "def find_entangled_pair_general(counts):\n",
    "    \n",
    "    # Pair must be 00 or 11\n",
    "    if \"000000\" in counts.keys():\n",
    "        print(\"00 or 11\")\n",
    "    else:\n",
    "        print(\"01 or 10\")\n",
    "  \n",
    "    bitstring_length = len(list(counts.keys())[0])\n",
    "    not_entangled_qubits = set()\n",
    "    for bitstring in counts:\n",
    "        # this qubit is not entangled\n",
    "        if bitstring.count(\"1\") == 1:\n",
    "            not_entangled_qubits.add(bitstring_length - 1 - bitstring.find(\"1\"))            \n",
    "    entangled_qubits = list()\n",
    "    for i in range(bitstring_length):        \n",
    "        if i not in not_entangled_qubits:\n",
    "            entangled_qubits.append(i)    \n",
    "    if len(entangled_qubits) == 2:\n",
    "        qubit_1 = entangled_qubits[0]\n",
    "        qubit_2 = entangled_qubits[1]\n",
    "    else:\n",
    "        not_entangled_qubits_list = list(not_entangled_qubits)\n",
    "        qubit_1 = not_entangled_qubits_list[0] \n",
    "        qubit_2 = not_entangled_qubits_list[1]\n",
    "        \n",
    "    print(\"size entangled_qubits:\", len(entangled_qubits), entangled_qubits)    \n",
    "        \n",
    "    return qubit_1, qubit_2"
   ]
  },
  {
   "cell_type": "code",
   "execution_count": 303,
   "metadata": {},
   "outputs": [
    {
     "name": "stdout",
     "output_type": "stream",
     "text": [
      "00 or 11\n",
      "size entangled_qubits: 2 [0, 3]\n",
      "0 3 0 3\n"
     ]
    }
   ],
   "source": [
    "res = find_entangled_pair_general(counts)\n",
    "print(q1, q2, res[0], res[1])"
   ]
  },
  {
   "cell_type": "code",
   "execution_count": null,
   "metadata": {},
   "outputs": [],
   "source": []
  }
 ],
 "metadata": {
  "kernelspec": {
   "display_name": "qiskit_py38",
   "language": "python",
   "name": "qiskit_py38"
  },
  "language_info": {
   "codemirror_mode": {
    "name": "ipython",
    "version": 3
   },
   "file_extension": ".py",
   "mimetype": "text/x-python",
   "name": "python",
   "nbconvert_exporter": "python",
   "pygments_lexer": "ipython3",
   "version": "3.8.5"
  }
 },
 "nbformat": 4,
 "nbformat_minor": 4
}
