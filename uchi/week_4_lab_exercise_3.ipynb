{
 "cells": [
  {
   "cell_type": "code",
   "execution_count": 15,
   "metadata": {},
   "outputs": [],
   "source": [
    "from qiskit import QuantumCircuit, QuantumRegister, ClassicalRegister"
   ]
  },
  {
   "cell_type": "code",
   "execution_count": 16,
   "metadata": {},
   "outputs": [],
   "source": [
    "def analyze_bv(circuit):\n",
    "    # (operation, qubits, classical bits)\n",
    "    for i in circuit:\n",
    "        print(i[0])\n",
    "        print(i[1])\n",
    "        print(i[2])\n",
    "    \n",
    "    bitstring = None\n",
    "    return bitstring"
   ]
  },
  {
   "cell_type": "code",
   "execution_count": 17,
   "metadata": {},
   "outputs": [
    {
     "name": "stdout",
     "output_type": "stream",
     "text": [
      "<qiskit.circuit.library.standard_gates.x.CXGate object at 0x7f64597eb490>\n",
      "[Qubit(QuantumRegister(4, 'q4'), 0), Qubit(QuantumRegister(4, 'q4'), 2)]\n",
      "[]\n",
      "<qiskit.circuit.library.standard_gates.x.CXGate object at 0x7f64597eb340>\n",
      "[Qubit(QuantumRegister(4, 'q4'), 1), Qubit(QuantumRegister(4, 'q4'), 2)]\n",
      "[]\n",
      "<qiskit.circuit.library.standard_gates.x.CXGate object at 0x7f64597eb250>\n",
      "[Qubit(QuantumRegister(4, 'q4'), 3), Qubit(QuantumRegister(4, 'q4'), 2)]\n",
      "[]\n",
      "None\n"
     ]
    }
   ],
   "source": [
    "q = QuantumRegister(4)\n",
    "c = QuantumCircuit(q)\n",
    "i = 2\n",
    "for j in range(0, 4):\n",
    "    if i == j:\n",
    "        continue\n",
    "    c.cx(j, i)\n",
    "b = analyze_bv(c)\n",
    "print(b)"
   ]
  },
  {
   "cell_type": "code",
   "execution_count": null,
   "metadata": {},
   "outputs": [],
   "source": []
  }
 ],
 "metadata": {
  "kernelspec": {
   "display_name": "qiskit_py38",
   "language": "python",
   "name": "qiskit_py38"
  },
  "language_info": {
   "codemirror_mode": {
    "name": "ipython",
    "version": 3
   },
   "file_extension": ".py",
   "mimetype": "text/x-python",
   "name": "python",
   "nbconvert_exporter": "python",
   "pygments_lexer": "ipython3",
   "version": "3.8.5"
  }
 },
 "nbformat": 4,
 "nbformat_minor": 4
}
