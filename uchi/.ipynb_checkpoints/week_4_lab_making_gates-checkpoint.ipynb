{
 "cells": [
  {
   "cell_type": "code",
   "execution_count": null,
   "metadata": {},
   "outputs": [],
   "source": [
    "import qiskit\n",
    "from qiskit import QuantumCircuit, ClassicalRegister"
   ]
  },
  {
   "cell_type": "code",
   "execution_count": null,
   "metadata": {},
   "outputs": [],
   "source": [
    "def archimedes_oracle(circuit, n, codes):\n",
    "    \n",
    "    ao = UnitaryGate()\n",
    "    \n",
    "    circuit.ao()\n",
    "    \n",
    "    return ncircuit"
   ]
  },
  {
   "cell_type": "code",
   "execution_count": null,
   "metadata": {},
   "outputs": [],
   "source": [
    "q = qiskit.QuantumRegister(4)\n",
    "c = qiskit.QuantumCircuit(q)\n",
    "codes = [\"101\", \"111\"]\n",
    "c = archimedes_oracle(c, 3, codes)\n",
    "print(c.draw())"
   ]
  }
 ],
 "metadata": {
  "kernelspec": {
   "display_name": "qiskit_py38",
   "language": "python",
   "name": "qiskit_py38"
  },
  "language_info": {
   "codemirror_mode": {
    "name": "ipython",
    "version": 3
   },
   "file_extension": ".py",
   "mimetype": "text/x-python",
   "name": "python",
   "nbconvert_exporter": "python",
   "pygments_lexer": "ipython3",
   "version": "3.8.5"
  }
 },
 "nbformat": 4,
 "nbformat_minor": 4
}
