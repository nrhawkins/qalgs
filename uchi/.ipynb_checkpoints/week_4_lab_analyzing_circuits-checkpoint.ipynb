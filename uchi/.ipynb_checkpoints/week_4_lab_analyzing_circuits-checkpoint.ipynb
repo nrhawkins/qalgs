{
 "cells": [
  {
   "cell_type": "code",
   "execution_count": 35,
   "metadata": {},
   "outputs": [],
   "source": [
    "from qiskit import QuantumCircuit, QuantumRegister, ClassicalRegister"
   ]
  },
  {
   "cell_type": "code",
   "execution_count": 36,
   "metadata": {},
   "outputs": [],
   "source": [
    "def analyze_bv(circuit):\n",
    "    \n",
    "    bitstring = [len(circuit)+1]\n",
    "    \n",
    "    for operation, qubits, cl_bits in circuit:\n",
    "    \n",
    "#        print(\"op: \", type(operation), operation.name, operation.params)\n",
    "#        print(\"qubits: \", type(qubits), qubits, \"\\n\", type(qubits[0]), \"\\n\", qubits[0].index, qubits[1].index)\n",
    "#        print(\"cl_bits: \", type(cl_bits))\n",
    "    \n",
    "        if operation.name == \"cx\":\n",
    "            pass        \n",
    "    \n",
    "    \n",
    "    \n",
    "    return bitstring"
   ]
  },
  {
   "cell_type": "code",
   "execution_count": 37,
   "metadata": {},
   "outputs": [
    {
     "name": "stdout",
     "output_type": "stream",
     "text": [
      "circuit: <class 'qiskit.circuit.quantumcircuit.QuantumCircuit'> 3\n",
      "op:  <class 'qiskit.circuit.library.standard_gates.x.CXGate'> cx []\n",
      "qubits:  <class 'list'> [Qubit(QuantumRegister(4, 'q9'), 0), Qubit(QuantumRegister(4, 'q9'), 2)] \n",
      " <class 'qiskit.circuit.quantumregister.Qubit'> \n",
      " 0 2\n",
      "cl_bits:  <class 'list'>\n",
      "op:  <class 'qiskit.circuit.library.standard_gates.x.CXGate'> cx []\n",
      "qubits:  <class 'list'> [Qubit(QuantumRegister(4, 'q9'), 1), Qubit(QuantumRegister(4, 'q9'), 2)] \n",
      " <class 'qiskit.circuit.quantumregister.Qubit'> \n",
      " 1 2\n",
      "cl_bits:  <class 'list'>\n",
      "op:  <class 'qiskit.circuit.library.standard_gates.x.CXGate'> cx []\n",
      "qubits:  <class 'list'> [Qubit(QuantumRegister(4, 'q9'), 3), Qubit(QuantumRegister(4, 'q9'), 2)] \n",
      " <class 'qiskit.circuit.quantumregister.Qubit'> \n",
      " 3 2\n",
      "cl_bits:  <class 'list'>\n",
      "[3]\n"
     ]
    }
   ],
   "source": [
    "q = QuantumRegister(4)\n",
    "c = QuantumCircuit(q)\n",
    "i = 2\n",
    "for j in range(0, 4):\n",
    "    if i == j:\n",
    "        continue\n",
    "    c.cx(j, i)\n",
    "b = analyze_bv(c)\n",
    "print(b)"
   ]
  }
 ],
 "metadata": {
  "kernelspec": {
   "display_name": "qiskit_py38",
   "language": "python",
   "name": "qiskit_py38"
  },
  "language_info": {
   "codemirror_mode": {
    "name": "ipython",
    "version": 3
   },
   "file_extension": ".py",
   "mimetype": "text/x-python",
   "name": "python",
   "nbconvert_exporter": "python",
   "pygments_lexer": "ipython3",
   "version": "3.8.5"
  }
 },
 "nbformat": 4,
 "nbformat_minor": 4
}
