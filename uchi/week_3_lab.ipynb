{
 "cells": [
  {
   "cell_type": "code",
   "execution_count": 11,
   "metadata": {},
   "outputs": [],
   "source": [
    "import qiskit\n",
    "from qiskit import QuantumCircuit\n",
    "from qiskit.quantum_info import Operator\n",
    "import numpy as np\n",
    "from qiskit.tools.visualization import plot_histogram"
   ]
  },
  {
   "cell_type": "code",
   "execution_count": 12,
   "metadata": {},
   "outputs": [
    {
     "data": {
      "text/html": [
       "<pre style=\"word-wrap: normal;white-space: pre;background: #fff0;line-height: 1.1;font-family: &quot;Courier New&quot;,Courier,monospace\">     ┌───┐     ┌─┐   \n",
       "q_0: ┤ H ├──■──┤M├───\n",
       "     └───┘┌─┴─┐└╥┘┌─┐\n",
       "q_1: ─────┤ X ├─╫─┤M├\n",
       "          └───┘ ║ └╥┘\n",
       "c: 2/═══════════╩══╩═\n",
       "                0  1 </pre>"
      ],
      "text/plain": [
       "     ┌───┐     ┌─┐   \n",
       "q_0: ┤ H ├──■──┤M├───\n",
       "     └───┘┌─┴─┐└╥┘┌─┐\n",
       "q_1: ─────┤ X ├─╫─┤M├\n",
       "          └───┘ ║ └╥┘\n",
       "c: 2/═══════════╩══╩═\n",
       "                0  1 "
      ]
     },
     "execution_count": 12,
     "metadata": {},
     "output_type": "execute_result"
    }
   ],
   "source": [
    "circuit = QuantumCircuit(2,2)\n",
    "circuit.h(0)\n",
    "circuit.cx(0,1)\n",
    "circuit.measure([0,1], [0,1])\n",
    "circuit.draw()"
   ]
  },
  {
   "cell_type": "code",
   "execution_count": 13,
   "metadata": {},
   "outputs": [
    {
     "name": "stdout",
     "output_type": "stream",
     "text": [
      "r:  <class 'qiskit.result.result.Result'>\n",
      "success: True\n",
      "result_dict: <class 'dict'>\n",
      "executed_job: <qiskit.providers.aer.aerjob.AerJob object at 0x7fba95d1aca0>\n"
     ]
    }
   ],
   "source": [
    "num_shots = 1024\n",
    "simulator = qiskit.providers.aer.QasmSimulator()\n",
    "executed_job = qiskit.execute(circuit, simulator, shots=num_shots)\n",
    "r = executed_job.result()\n",
    "print(\"r: \", type(r))\n",
    "print(\"success:\", r.success)\n",
    "result_dict = r.to_dict()\n",
    "print(\"result_dict:\", type(result_dict))\n",
    "print(\"executed_job:\", executed_job)"
   ]
  },
  {
   "cell_type": "code",
   "execution_count": 17,
   "metadata": {},
   "outputs": [
    {
     "name": "stdout",
     "output_type": "stream",
     "text": [
      "counts:  <class 'qiskit.result.counts.Counts'>\n",
      "{'00': 514, '11': 510}\n",
      "514\n",
      "dict_keys(['00', '11'])\n"
     ]
    }
   ],
   "source": [
    "counts = r.get_counts(circuit)\n",
    "print(\"counts: \", type(counts))\n",
    "plot_histogram(counts, title='Bell-State counts')\n",
    "print(counts)\n",
    "print(counts[\"00\"])\n",
    "print(counts.keys())"
   ]
  },
  {
   "cell_type": "code",
   "execution_count": 10,
   "metadata": {},
   "outputs": [
    {
     "name": "stdout",
     "output_type": "stream",
     "text": [
      "[[0. 0. 0. 0.]\n",
      " [0. 1. 0. 0.]\n",
      " [0. 0. 0. 1.]\n",
      " [0. 1. 0. 1.]]\n",
      "1.0\n",
      "[0. 0. 0. 0.]\n",
      "[0. 1. 0. 1.]\n",
      "[0. 0. 0. 0.]\n",
      "[0. 0. 1. 1.]\n"
     ]
    }
   ],
   "source": [
    "counts_array = np.zeros(shape=(4,4))\n",
    "count_strings = [\"0000\",\"0100\",\"0001\",\"0101\"]\n",
    "\n",
    "for i in range(len(count_strings)):\n",
    "    sl = [int(d) for d in count_strings[i]]\n",
    "    counts_array[i] = sl\n",
    "\n",
    "print(counts_array)    \n",
    "print(counts_array[1][1])\n",
    "print(counts_array[:,0])\n",
    "print(counts_array[:,1])\n",
    "print(counts_array[:,2])\n",
    "print(counts_array[:,3])"
   ]
  },
  {
   "cell_type": "code",
   "execution_count": 29,
   "metadata": {},
   "outputs": [
    {
     "data": {
      "text/plain": [
       "array([0., 2., 0., 2.])"
      ]
     },
     "execution_count": 29,
     "metadata": {},
     "output_type": "execute_result"
    }
   ],
   "source": [
    "sums = np.sum(counts_array,0)\n",
    "sums"
   ]
  },
  {
   "cell_type": "code",
   "execution_count": 14,
   "metadata": {},
   "outputs": [
    {
     "data": {
      "text/plain": [
       "10"
      ]
     },
     "execution_count": 14,
     "metadata": {},
     "output_type": "execute_result"
    }
   ],
   "source": [
    "l = [1,2,3,4]\n",
    "sum(l)"
   ]
  },
  {
   "cell_type": "code",
   "execution_count": 31,
   "metadata": {},
   "outputs": [
    {
     "data": {
      "text/plain": [
       "[0, 2]"
      ]
     },
     "execution_count": 31,
     "metadata": {},
     "output_type": "execute_result"
    }
   ],
   "source": [
    "qubits = []\n",
    "for i in range(len(sums)):\n",
    "    if sums[i]==0:\n",
    "        qubits.append(i)\n",
    "qubits\n"
   ]
  },
  {
   "cell_type": "code",
   "execution_count": null,
   "metadata": {},
   "outputs": [],
   "source": []
  }
 ],
 "metadata": {
  "kernelspec": {
   "display_name": "qiskit_py38",
   "language": "python",
   "name": "qiskit_py38"
  },
  "language_info": {
   "codemirror_mode": {
    "name": "ipython",
    "version": 3
   },
   "file_extension": ".py",
   "mimetype": "text/x-python",
   "name": "python",
   "nbconvert_exporter": "python",
   "pygments_lexer": "ipython3",
   "version": "3.8.5"
  }
 },
 "nbformat": 4,
 "nbformat_minor": 4
}
