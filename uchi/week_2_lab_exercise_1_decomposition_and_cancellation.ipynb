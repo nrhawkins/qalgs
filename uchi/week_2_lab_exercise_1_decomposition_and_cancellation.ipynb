{
 "cells": [
  {
   "cell_type": "markdown",
   "metadata": {},
   "source": [
    "Exercise 1: Decomposition and Cancellation"
   ]
  },
  {
   "cell_type": "code",
   "execution_count": 4,
   "metadata": {},
   "outputs": [],
   "source": [
    "import qiskit\n",
    "from qiskit import QuantumCircuit\n",
    "from qiskit.quantum_info import Operator"
   ]
  },
  {
   "cell_type": "code",
   "execution_count": 5,
   "metadata": {},
   "outputs": [
    {
     "data": {
      "text/html": [
       "<pre style=\"word-wrap: normal;white-space: pre;background: #fff0;line-height: 1.1;font-family: &quot;Courier New&quot;,Courier,monospace\">     ┌───┐          ┌───┐   ┌───┐\n",
       "q_0: ┤ X ├──────────┤ X ├─X─┤ X ├\n",
       "     ├───┤┌───┐┌───┐└─┬─┘ │ └─┬─┘\n",
       "q_1: ┤ H ├┤ X ├┤ H ├──■───X───■──\n",
       "     └───┘└───┘└───┘             </pre>"
      ],
      "text/plain": [
       "     ┌───┐          ┌───┐   ┌───┐\n",
       "q_0: ┤ X ├──────────┤ X ├─X─┤ X ├\n",
       "     ├───┤┌───┐┌───┐└─┬─┘ │ └─┬─┘\n",
       "q_1: ┤ H ├┤ X ├┤ H ├──■───X───■──\n",
       "     └───┘└───┘└───┘             "
      ]
     },
     "execution_count": 5,
     "metadata": {},
     "output_type": "execute_result"
    }
   ],
   "source": [
    "qc = QuantumCircuit(2)\n",
    "\n",
    "qc.x(0)\n",
    "qc.h(1)\n",
    "\n",
    "qc.x(1)\n",
    "qc.h(1)\n",
    "\n",
    "qc.cx(1,0)\n",
    "\n",
    "qc.swap(0,1)\n",
    "\n",
    "qc.cx(1,0)\n",
    "\n",
    "qc.draw()"
   ]
  },
  {
   "cell_type": "code",
   "execution_count": 6,
   "metadata": {},
   "outputs": [
    {
     "name": "stdout",
     "output_type": "stream",
     "text": [
      "[[ 0.+0.j  1.+0.j  0.+0.j  0.+0.j]\n",
      " [ 0.+0.j  0.+0.j -1.+0.j  0.+0.j]\n",
      " [ 0.+0.j  0.+0.j  0.+0.j -1.+0.j]\n",
      " [ 1.+0.j  0.+0.j  0.+0.j  0.+0.j]]\n"
     ]
    }
   ],
   "source": [
    "original_op = Operator(qc)\n",
    "print(original_op.data)"
   ]
  },
  {
   "cell_type": "code",
   "execution_count": 9,
   "metadata": {},
   "outputs": [
    {
     "data": {
      "text/html": [
       "<pre style=\"word-wrap: normal;white-space: pre;background: #fff0;line-height: 1.1;font-family: &quot;Courier New&quot;,Courier,monospace\">     ┌───┐┌───┐   ┌───┐\n",
       "q_0: ┤ X ├┤ X ├─X─┤ X ├\n",
       "     ├───┤└─┬─┘ │ └─┬─┘\n",
       "q_1: ┤ Z ├──■───X───■──\n",
       "     └───┘             </pre>"
      ],
      "text/plain": [
       "     ┌───┐┌───┐   ┌───┐\n",
       "q_0: ┤ X ├┤ X ├─X─┤ X ├\n",
       "     ├───┤└─┬─┘ │ └─┬─┘\n",
       "q_1: ┤ Z ├──■───X───■──\n",
       "     └───┘             "
      ]
     },
     "execution_count": 9,
     "metadata": {},
     "output_type": "execute_result"
    }
   ],
   "source": [
    "qcr = QuantumCircuit(2)\n",
    "\n",
    "qcr.x(0)\n",
    "qcr.z(1)\n",
    "\n",
    "qcr.cx(1,0)\n",
    "qcr.swap(0,1)\n",
    "qcr.cx(1,0)\n",
    "\n",
    "qcr.draw()"
   ]
  },
  {
   "cell_type": "code",
   "execution_count": 18,
   "metadata": {},
   "outputs": [
    {
     "name": "stdout",
     "output_type": "stream",
     "text": [
      "[[ 0.+0.j  1.+0.j  0.+0.j  0.+0.j]\n",
      " [ 0.+0.j  0.+0.j -1.+0.j  0.+0.j]\n",
      " [ 0.+0.j  0.+0.j  0.+0.j -1.+0.j]\n",
      " [ 1.+0.j  0.+0.j  0.+0.j  0.+0.j]]\n"
     ]
    }
   ],
   "source": [
    "op = Operator(qcr)\n",
    "print(op.data)"
   ]
  },
  {
   "cell_type": "code",
   "execution_count": 13,
   "metadata": {},
   "outputs": [
    {
     "data": {
      "text/html": [
       "<pre style=\"word-wrap: normal;white-space: pre;background: #fff0;line-height: 1.1;font-family: &quot;Courier New&quot;,Courier,monospace\">     ┌───┐┌───┐┌───┐     ┌───┐┌───┐\n",
       "q_0: ┤ X ├┤ X ├┤ X ├──■──┤ X ├┤ X ├\n",
       "     ├───┤└─┬─┘└─┬─┘┌─┴─┐└─┬─┘└─┬─┘\n",
       "q_1: ┤ Z ├──■────■──┤ X ├──■────■──\n",
       "     └───┘          └───┘          </pre>"
      ],
      "text/plain": [
       "     ┌───┐┌───┐┌───┐     ┌───┐┌───┐\n",
       "q_0: ┤ X ├┤ X ├┤ X ├──■──┤ X ├┤ X ├\n",
       "     ├───┤└─┬─┘└─┬─┘┌─┴─┐└─┬─┘└─┬─┘\n",
       "q_1: ┤ Z ├──■────■──┤ X ├──■────■──\n",
       "     └───┘          └───┘          "
      ]
     },
     "execution_count": 13,
     "metadata": {},
     "output_type": "execute_result"
    }
   ],
   "source": [
    "qcr2 = QuantumCircuit(2)\n",
    "\n",
    "qcr2.x(0)\n",
    "qcr2.z(1)\n",
    "\n",
    "qcr2.cx(1,0)\n",
    "\n",
    "qcr2.cx(1,0)\n",
    "qcr2.cx(0,1)\n",
    "qcr2.cx(1,0)\n",
    "\n",
    "qcr2.cx(1,0)\n",
    "\n",
    "qcr2.draw()"
   ]
  },
  {
   "cell_type": "code",
   "execution_count": 17,
   "metadata": {},
   "outputs": [
    {
     "name": "stdout",
     "output_type": "stream",
     "text": [
      "[[ 0.+0.j  1.+0.j  0.+0.j  0.+0.j]\n",
      " [ 0.+0.j  0.+0.j -1.+0.j  0.+0.j]\n",
      " [ 0.+0.j  0.+0.j  0.+0.j -1.+0.j]\n",
      " [ 1.+0.j  0.+0.j  0.+0.j  0.+0.j]]\n"
     ]
    }
   ],
   "source": [
    "op2 = Operator(qcr2)\n",
    "print(op2.data)"
   ]
  },
  {
   "cell_type": "code",
   "execution_count": 16,
   "metadata": {},
   "outputs": [
    {
     "data": {
      "text/html": [
       "<pre style=\"word-wrap: normal;white-space: pre;background: #fff0;line-height: 1.1;font-family: &quot;Courier New&quot;,Courier,monospace\">     ┌───┐     \n",
       "q_0: ┤ X ├──■──\n",
       "     ├───┤┌─┴─┐\n",
       "q_1: ┤ Z ├┤ X ├\n",
       "     └───┘└───┘</pre>"
      ],
      "text/plain": [
       "     ┌───┐     \n",
       "q_0: ┤ X ├──■──\n",
       "     ├───┤┌─┴─┐\n",
       "q_1: ┤ Z ├┤ X ├\n",
       "     └───┘└───┘"
      ]
     },
     "execution_count": 16,
     "metadata": {},
     "output_type": "execute_result"
    }
   ],
   "source": [
    "qcr3 = QuantumCircuit(2)\n",
    "\n",
    "qcr3.x(0)\n",
    "qcr3.z(1)\n",
    "\n",
    "qcr3.cx(0,1)\n",
    "\n",
    "qcr3.draw()"
   ]
  },
  {
   "cell_type": "code",
   "execution_count": 19,
   "metadata": {},
   "outputs": [
    {
     "name": "stdout",
     "output_type": "stream",
     "text": [
      "[[ 0.+0.j  1.+0.j  0.+0.j  0.+0.j]\n",
      " [ 0.+0.j  0.+0.j -1.+0.j  0.+0.j]\n",
      " [ 0.+0.j  0.+0.j  0.+0.j -1.+0.j]\n",
      " [ 1.+0.j  0.+0.j  0.+0.j  0.+0.j]]\n"
     ]
    }
   ],
   "source": [
    "op3 = Operator(qcr3)\n",
    "print(op3.data)"
   ]
  },
  {
   "cell_type": "code",
   "execution_count": 26,
   "metadata": {},
   "outputs": [
    {
     "data": {
      "text/html": [
       "<pre style=\"word-wrap: normal;white-space: pre;background: #fff0;line-height: 1.1;font-family: &quot;Courier New&quot;,Courier,monospace\">     ┌───┐┌───┐┌───┐     \n",
       "q_0: ┤ H ├┤ I ├┤ X ├─────\n",
       "     ├───┤├───┤└─┬─┘┌───┐\n",
       "q_1: ┤ I ├┤ H ├──■──┤ H ├\n",
       "     └───┘└───┘     └───┘</pre>"
      ],
      "text/plain": [
       "     ┌───┐┌───┐┌───┐     \n",
       "q_0: ┤ H ├┤ I ├┤ X ├─────\n",
       "     ├───┤├───┤└─┬─┘┌───┐\n",
       "q_1: ┤ I ├┤ H ├──■──┤ H ├\n",
       "     └───┘└───┘     └───┘"
      ]
     },
     "execution_count": 26,
     "metadata": {},
     "output_type": "execute_result"
    }
   ],
   "source": []
  },
  {
   "cell_type": "code",
   "execution_count": 23,
   "metadata": {},
   "outputs": [
    {
     "name": "stdout",
     "output_type": "stream",
     "text": [
      "[[ 1.+0.j  1.+0.j  1.+0.j -1.+0.j]\n",
      " [ 1.+0.j  1.+0.j -1.+0.j  1.+0.j]\n",
      " [ 1.+0.j -1.+0.j  1.+0.j  1.+0.j]\n",
      " [-1.+0.j  1.+0.j  1.+0.j  1.+0.j]]\n"
     ]
    }
   ],
   "source": [
    "opi = Operator(qci)\n",
    "print(opi.data/0.5)"
   ]
  },
  {
   "cell_type": "code",
   "execution_count": null,
   "metadata": {},
   "outputs": [],
   "source": []
  }
 ],
 "metadata": {
  "kernelspec": {
   "display_name": "qiskit_py38",
   "language": "python",
   "name": "qiskit_py38"
  },
  "language_info": {
   "codemirror_mode": {
    "name": "ipython",
    "version": 3
   },
   "file_extension": ".py",
   "mimetype": "text/x-python",
   "name": "python",
   "nbconvert_exporter": "python",
   "pygments_lexer": "ipython3",
   "version": "3.8.5"
  }
 },
 "nbformat": 4,
 "nbformat_minor": 4
}
