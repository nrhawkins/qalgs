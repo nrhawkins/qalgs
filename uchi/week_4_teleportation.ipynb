{
 "cells": [
  {
   "cell_type": "code",
   "execution_count": 4,
   "metadata": {},
   "outputs": [],
   "source": [
    "import qiskit\n",
    "from qiskit import QuantumCircuit, ClassicalRegister"
   ]
  },
  {
   "cell_type": "code",
   "execution_count": 5,
   "metadata": {},
   "outputs": [],
   "source": [
    "def teleport_any_pair(circuit, outside_qubit, qubit_pair, bell_pair_start):\n",
    "\n",
    "    crz, crx = ClassicalRegister(1, name=\"crz\"), ClassicalRegister(1, name=\"crx\")\n",
    "    \n",
    "    circuit.add_register(crz)\n",
    "    circuit.add_register(crx)\n",
    "    \n",
    "    # Alice applies gates\n",
    "    circuit.cx(outside_qubit, qubit_pair[0])\n",
    "    circuit.h(qubit_pair[0])\n",
    "    \n",
    "    # Bob applies gates\n",
    "    qc.x(qubit_pair[1]).c_if(crx, 1)\n",
    "    qc.z(qubit_pair[1]).c_if(crz, 1)\n",
    " \n",
    "    return circuit"
   ]
  },
  {
   "cell_type": "code",
   "execution_count": 6,
   "metadata": {},
   "outputs": [
    {
     "data": {
      "text/html": [
       "<pre style=\"word-wrap: normal;white-space: pre;background: #fff0;line-height: 1.1;font-family: &quot;Courier New&quot;,Courier,monospace\">                          \n",
       "q1_0: ────────────■───────\n",
       "      ┌───┐     ┌─┴─┐┌───┐\n",
       "q1_1: ┤ H ├──■──┤ X ├┤ H ├\n",
       "      └───┘┌─┴─┐├───┤├───┤\n",
       "q1_2: ─────┤ X ├┤ X ├┤ Z ├\n",
       "           └───┘└───┘└───┘</pre>"
      ],
      "text/plain": [
       "                          \n",
       "q1_0: ────────────■───────\n",
       "      ┌───┐     ┌─┴─┐┌───┐\n",
       "q1_1: ┤ H ├──■──┤ X ├┤ H ├\n",
       "      └───┘┌─┴─┐├───┤├───┤\n",
       "q1_2: ─────┤ X ├┤ X ├┤ Z ├\n",
       "           └───┘└───┘└───┘"
      ]
     },
     "execution_count": 6,
     "metadata": {},
     "output_type": "execute_result"
    }
   ],
   "source": [
    "q = qiskit.QuantumRegister(3)\n",
    "c = qiskit.QuantumCircuit(q)\n",
    "c.h(q[1])\n",
    "c.cx(q[1], q[2])\n",
    "\n",
    "c = teleport_any_pair(c, q[0], (q[1], q[2]), \"11\")\n",
    "c.draw()"
   ]
  }
 ],
 "metadata": {
  "kernelspec": {
   "display_name": "qiskit_py38",
   "language": "python",
   "name": "qiskit_py38"
  },
  "language_info": {
   "codemirror_mode": {
    "name": "ipython",
    "version": 3
   },
   "file_extension": ".py",
   "mimetype": "text/x-python",
   "name": "python",
   "nbconvert_exporter": "python",
   "pygments_lexer": "ipython3",
   "version": "3.8.5"
  }
 },
 "nbformat": 4,
 "nbformat_minor": 4
}
