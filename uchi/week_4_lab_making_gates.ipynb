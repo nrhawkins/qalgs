{
 "cells": [
  {
   "cell_type": "code",
   "execution_count": 1,
   "metadata": {},
   "outputs": [],
   "source": [
    "import qiskit\n",
    "from qiskit import QuantumCircuit, ClassicalRegister\n",
    "from qiskit.quantum_info import Operator\n",
    "import numpy as np"
   ]
  },
  {
   "cell_type": "code",
   "execution_count": 2,
   "metadata": {},
   "outputs": [],
   "source": [
    "def archimedes_oracle(circuit, n, codes):\n",
    "\n",
    "    # create the identity matrix on n qubits\n",
    "    oracle_matrix = np.identity(2**n)\n",
    "    # add the -1 phase to marked elements\n",
    "    for binary_string_code in codes:\n",
    "        index_to_mark = int(binary_string_code, 2)\n",
    "        oracle_matrix[index_to_mark, index_to_mark] = -1\n",
    "\n",
    "    # convert your matrix (called oracle_matrix) into an operator\n",
    "    circuit.unitary(Operator(oracle_matrix), range(n))\n",
    "    \n",
    "    return circuit"
   ]
  },
  {
   "cell_type": "code",
   "execution_count": 3,
   "metadata": {},
   "outputs": [
    {
     "name": "stdout",
     "output_type": "stream",
     "text": [
      "      ┌──────────┐\n",
      "q0_0: ┤0         ├\n",
      "      │          │\n",
      "q0_1: ┤1 unitary ├\n",
      "      │          │\n",
      "q0_2: ┤2         ├\n",
      "      └──────────┘\n",
      "q0_3: ────────────\n",
      "                  \n"
     ]
    }
   ],
   "source": [
    "q = qiskit.QuantumRegister(4)\n",
    "c = qiskit.QuantumCircuit(q)\n",
    "codes = [\"101\", \"111\"]\n",
    "c = archimedes_oracle(c, 3, codes)\n",
    "print(c.draw())"
   ]
  }
 ],
 "metadata": {
  "kernelspec": {
   "display_name": "qiskit_py38",
   "language": "python",
   "name": "qiskit_py38"
  },
  "language_info": {
   "codemirror_mode": {
    "name": "ipython",
    "version": 3
   },
   "file_extension": ".py",
   "mimetype": "text/x-python",
   "name": "python",
   "nbconvert_exporter": "python",
   "pygments_lexer": "ipython3",
   "version": "3.8.5"
  }
 },
 "nbformat": 4,
 "nbformat_minor": 4
}
