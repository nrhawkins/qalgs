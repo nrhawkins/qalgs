{
 "cells": [
  {
   "cell_type": "code",
   "execution_count": 88,
   "metadata": {},
   "outputs": [],
   "source": [
    "from qiskit import QuantumCircuit, QuantumRegister, ClassicalRegister"
   ]
  },
  {
   "cell_type": "code",
   "execution_count": 89,
   "metadata": {},
   "outputs": [],
   "source": [
    "def analyze_bv(circuit):\n",
    "    \n",
    "    n_qubits = circuit.num_qubits\n",
    "    bitstring_list = [\"0\" for i in range(n_qubits)]\n",
    "    \n",
    "    print(bitstring_list)\n",
    "    print(len(circuit), type(circuit), circuit.num_qubits)\n",
    "    \n",
    "    for operation, qubits, cl_bits in circuit:\n",
    "\n",
    "        print(\"op:\", operation)\n",
    "        \n",
    "        if operation.name == \"cx\":\n",
    "            if qubits[0].index < n_qubits: \n",
    "                bitstring_list[qubits[0].index] = \"1\"        \n",
    "                if qubits[1].index < n_qubits:\n",
    "                    bitstring_list[qubits[1].index] = \"x\"\n",
    "        else:\n",
    "            # not a cnot gate, different operation\n",
    "            pass\n",
    "        \n",
    "    bitstring =  \"\".join(bitstring_list)\n",
    "    \n",
    "    return bitstring"
   ]
  },
  {
   "cell_type": "code",
   "execution_count": 90,
   "metadata": {},
   "outputs": [
    {
     "name": "stdout",
     "output_type": "stream",
     "text": [
      "['0', '0', '0', '0']\n",
      "2 <class 'qiskit.circuit.quantumcircuit.QuantumCircuit'> 4\n",
      "op: <qiskit.circuit.library.standard_gates.x.CXGate object at 0x7f70a9fd2a30>\n",
      "op: <qiskit.circuit.library.standard_gates.x.CXGate object at 0x7f711c648760>\n",
      "11x0\n"
     ]
    }
   ],
   "source": [
    "q = QuantumRegister(4)\n",
    "c = QuantumCircuit(q)\n",
    "i = 2\n",
    "for j in range(0, 4):\n",
    "    if i == j or j>i:\n",
    "        continue\n",
    "    c.cx(j, i)\n",
    "b = analyze_bv(c)\n",
    "print(b)"
   ]
  }
 ],
 "metadata": {
  "kernelspec": {
   "display_name": "qiskit_py38",
   "language": "python",
   "name": "qiskit_py38"
  },
  "language_info": {
   "codemirror_mode": {
    "name": "ipython",
    "version": 3
   },
   "file_extension": ".py",
   "mimetype": "text/x-python",
   "name": "python",
   "nbconvert_exporter": "python",
   "pygments_lexer": "ipython3",
   "version": "3.8.5"
  }
 },
 "nbformat": 4,
 "nbformat_minor": 4
}
