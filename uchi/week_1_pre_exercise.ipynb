{
 "cells": [
  {
   "cell_type": "markdown",
   "metadata": {},
   "source": [
    "Pre-Exercise\n",
    "\n",
    "┌───┐\n",
    "q0_0: ──■───────┤ H ├──X───────\n",
    "      ┌─┴─┐┌───┐└───┘  |  ┌───┐\n",
    "q0_1: ┤ X ├┤ X ├───────|──┤ X ├\n",
    "      └───┘└─┬─┘┌───┐  |  └───┘\n",
    "q0_2: ───────■──┤ Z ├──X───────\n",
    "                └───┘\n",
    "    \n",
    "Recreate the following circuit in Qiskit. Don't worry about spacing, just get the gates in the right order.\n"
   ]
  },
  {
   "cell_type": "code",
   "execution_count": null,
   "metadata": {},
   "outputs": [],
   "source": [
    "import qiskit\n",
    "\n",
    "def hw1_0_response():\n",
    "\n",
    "    qubits = qiskit.QuantumRegister(3)\n",
    "    clbits = qiskit.ClassicalRegister(3)\n",
    "    qc = qiskit.QuantumCircuit(qubits, clbits)\n",
    "\n",
    "    qc.cx(qubits[0],qubits[1])\n",
    "    qc.cx(qubits[2],qubits[1])\n",
    "    qc.h(qubits[0])\n",
    "    qc.z(qubits[2])\n",
    "    qc.swap(qubits[0],qubits[2])\n",
    "    qc.x(qubits[1])\n",
    "\n",
    "    return qc\n",
    "      "
   ]
  }
 ],
 "metadata": {
  "kernelspec": {
   "display_name": "qiskit_py38",
   "language": "python",
   "name": "qiskit_py38"
  },
  "language_info": {
   "codemirror_mode": {
    "name": "ipython",
    "version": 3
   },
   "file_extension": ".py",
   "mimetype": "text/x-python",
   "name": "python",
   "nbconvert_exporter": "python",
   "pygments_lexer": "ipython3",
   "version": "3.8.5"
  }
 },
 "nbformat": 4,
 "nbformat_minor": 4
}
